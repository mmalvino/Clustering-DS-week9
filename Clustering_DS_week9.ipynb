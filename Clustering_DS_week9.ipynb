{
  "nbformat": 4,
  "nbformat_minor": 0,
  "metadata": {
    "colab": {
      "provenance": []
    },
    "kernelspec": {
      "name": "python3",
      "display_name": "Python 3"
    },
    "language_info": {
      "name": "python"
    }
  },
  "cells": [
    {
      "cell_type": "code",
      "source": [
        "# Import necessary libraries\n",
        "from sklearn.model_selection import train_test_split\n",
        "from sklearn.metrics import davies_bouldin_score, silhouette_score, adjusted_rand_score, calinski_harabasz_score\n",
        "from sklearn.datasets import load_breast_cancer\n",
        "from sklearn.cluster import KMeans, MeanShift, AgglomerativeClustering, SpectralClustering\n",
        "import pandas as pd\n",
        "\n",
        "# Load the Breast Cancer dataset\n",
        "breast_cancer = load_breast_cancer()\n",
        "\n",
        "# Create a DataFrame\n",
        "breast_cancer_df = pd.DataFrame(data=breast_cancer.data, columns=breast_cancer.feature_names)\n",
        "\n",
        "# Add the target variable (class) to the DataFrame\n",
        "breast_cancer_df['target'] = breast_cancer.target\n",
        "\n",
        "# True labels\n",
        "true_labels_bc = breast_cancer.target\n",
        "\n",
        "# Display the DataFrame\n",
        "print(breast_cancer_df.head())\n"
      ],
      "metadata": {
        "colab": {
          "base_uri": "https://localhost:8080/"
        },
        "id": "-_6BW65-PrPm",
        "outputId": "d409ed68-4c4e-498b-9d07-e0734b7ef6e3"
      },
      "execution_count": 23,
      "outputs": [
        {
          "output_type": "stream",
          "name": "stdout",
          "text": [
            "   mean radius  mean texture  mean perimeter  mean area  mean smoothness  \\\n",
            "0        17.99         10.38          122.80     1001.0          0.11840   \n",
            "1        20.57         17.77          132.90     1326.0          0.08474   \n",
            "2        19.69         21.25          130.00     1203.0          0.10960   \n",
            "3        11.42         20.38           77.58      386.1          0.14250   \n",
            "4        20.29         14.34          135.10     1297.0          0.10030   \n",
            "\n",
            "   mean compactness  mean concavity  mean concave points  mean symmetry  \\\n",
            "0           0.27760          0.3001              0.14710         0.2419   \n",
            "1           0.07864          0.0869              0.07017         0.1812   \n",
            "2           0.15990          0.1974              0.12790         0.2069   \n",
            "3           0.28390          0.2414              0.10520         0.2597   \n",
            "4           0.13280          0.1980              0.10430         0.1809   \n",
            "\n",
            "   mean fractal dimension  ...  worst texture  worst perimeter  worst area  \\\n",
            "0                 0.07871  ...          17.33           184.60      2019.0   \n",
            "1                 0.05667  ...          23.41           158.80      1956.0   \n",
            "2                 0.05999  ...          25.53           152.50      1709.0   \n",
            "3                 0.09744  ...          26.50            98.87       567.7   \n",
            "4                 0.05883  ...          16.67           152.20      1575.0   \n",
            "\n",
            "   worst smoothness  worst compactness  worst concavity  worst concave points  \\\n",
            "0            0.1622             0.6656           0.7119                0.2654   \n",
            "1            0.1238             0.1866           0.2416                0.1860   \n",
            "2            0.1444             0.4245           0.4504                0.2430   \n",
            "3            0.2098             0.8663           0.6869                0.2575   \n",
            "4            0.1374             0.2050           0.4000                0.1625   \n",
            "\n",
            "   worst symmetry  worst fractal dimension  target  \n",
            "0          0.4601                  0.11890       0  \n",
            "1          0.2750                  0.08902       0  \n",
            "2          0.3613                  0.08758       0  \n",
            "3          0.6638                  0.17300       0  \n",
            "4          0.2364                  0.07678       0  \n",
            "\n",
            "[5 rows x 31 columns]\n"
          ]
        }
      ]
    },
    {
      "cell_type": "code",
      "source": [
        "# KMeans Clustering\n",
        "kmeans = KMeans(n_clusters=2, random_state=20, n_init=\"auto\").fit(breast_cancer_df)\n",
        "kmeans_labels = kmeans.labels_\n",
        "silhouette_avg1 = silhouette_score(breast_cancer_df, kmeans_labels)\n",
        "dbi_score1 = davies_bouldin_score(breast_cancer_df, kmeans_labels)\n",
        "rand_score1 = adjusted_rand_score(true_labels_bc, kmeans_labels)\n",
        "ch_score1 = calinski_harabasz_score(breast_cancer_df, kmeans_labels)\n",
        "\n",
        "print(\"KMeans\")\n",
        "print(\"Silhouette Score:\", silhouette_avg1)\n",
        "print(\"Davies-Bouldin Index:\", dbi_score1)\n",
        "print(\"Rand Score:\", rand_score1)\n",
        "print(\"Calinski and Harabasz Score:\", ch_score1)\n"
      ],
      "metadata": {
        "colab": {
          "base_uri": "https://localhost:8080/"
        },
        "id": "ypoxoqzaPsM6",
        "outputId": "91dcdd37-0270-42d4-e63c-bf5aa2f9b883"
      },
      "execution_count": 24,
      "outputs": [
        {
          "output_type": "stream",
          "name": "stdout",
          "text": [
            "KMeans\n",
            "Silhouette Score: 0.6972643037728601\n",
            "Davies-Bouldin Index: 0.5044037959937971\n",
            "Rand Score: 0.49142453622455523\n",
            "Calinski and Harabasz Score: 1300.2075740879543\n"
          ]
        }
      ]
    },
    {
      "cell_type": "code",
      "source": [
        "# MeanShift Clustering\n",
        "mean_shift = MeanShift().fit(breast_cancer_df)\n",
        "mean_shift_labels = mean_shift.labels_\n",
        "silhouette_avg2 = silhouette_score(breast_cancer_df, mean_shift_labels)\n",
        "dbi_score2 = davies_bouldin_score(breast_cancer_df, mean_shift_labels)\n",
        "rand_score2 = adjusted_rand_score(true_labels_bc, mean_shift_labels)\n",
        "ch_score2 = calinski_harabasz_score(breast_cancer_df, mean_shift_labels)\n",
        "\n",
        "print(\"\\nMeanShift\")\n",
        "print(\"Silhouette Score:\", silhouette_avg2)\n",
        "print(\"Davies-Bouldin Index:\", dbi_score2)\n",
        "print(\"Rand Score:\", rand_score2)\n",
        "print(\"Calinski and Harabasz Score:\", ch_score2)\n"
      ],
      "metadata": {
        "colab": {
          "base_uri": "https://localhost:8080/"
        },
        "id": "NLWOEc2dPwx9",
        "outputId": "1ac86f6a-8540-40aa-e2a8-09cb6f120715"
      },
      "execution_count": 25,
      "outputs": [
        {
          "output_type": "stream",
          "name": "stdout",
          "text": [
            "\n",
            "MeanShift\n",
            "Silhouette Score: 0.626981169540688\n",
            "Davies-Bouldin Index: 0.5121912907710544\n",
            "Rand Score: 0.5528955767952657\n",
            "Calinski and Harabasz Score: 637.985938359916\n"
          ]
        }
      ]
    },
    {
      "cell_type": "code",
      "source": [
        "# Agglomerative Clustering\n",
        "agglomerative_clustering = AgglomerativeClustering(n_clusters=2, linkage='complete').fit(breast_cancer_df)\n",
        "agglomerative_labels = agglomerative_clustering.labels_\n",
        "silhouette_avg3 = silhouette_score(breast_cancer_df, agglomerative_labels)\n",
        "dbi_score3 = davies_bouldin_score(breast_cancer_df, agglomerative_labels)\n",
        "rand_score3 = adjusted_rand_score(true_labels_bc, agglomerative_labels)\n",
        "ch_score3 = calinski_harabasz_score(breast_cancer_df, agglomerative_labels)\n",
        "\n",
        "print(\"\\nAgglomerative Clustering\")\n",
        "print(\"Silhouette Score:\", silhouette_avg3)\n",
        "print(\"Davies-Bouldin Index:\", dbi_score3)\n",
        "print(\"Rand Score:\", rand_score3)\n",
        "print(\"Calinski and Harabasz Score:\", ch_score3)\n"
      ],
      "metadata": {
        "colab": {
          "base_uri": "https://localhost:8080/"
        },
        "id": "Pstjt1JBPys0",
        "outputId": "89c16234-79cf-43cd-d1ab-cf537d6e6794"
      },
      "execution_count": 26,
      "outputs": [
        {
          "output_type": "stream",
          "name": "stdout",
          "text": [
            "\n",
            "Agglomerative Clustering\n",
            "Silhouette Score: 0.6909349309609722\n",
            "Davies-Bouldin Index: 0.42900130643083484\n",
            "Rand Score: 0.05230450912720369\n",
            "Calinski and Harabasz Score: 334.3354181116257\n"
          ]
        }
      ]
    },
    {
      "cell_type": "code",
      "source": [
        "# Spectral Clustering\n",
        "spectral_clustering = SpectralClustering(n_clusters=2, random_state=20, gamma=0.1).fit(breast_cancer_df)\n",
        "spectral_labels = spectral_clustering.labels_\n",
        "silhouette_avg4 = silhouette_score(breast_cancer_df, spectral_labels)\n",
        "dbi_score4 = davies_bouldin_score(breast_cancer_df, spectral_labels)\n",
        "rand_score4 = adjusted_rand_score(true_labels_bc, spectral_labels)\n",
        "ch_score4 = calinski_harabasz_score(breast_cancer_df, spectral_labels)\n",
        "\n",
        "print(\"\\nSpectral Clustering\")\n",
        "print(\"Silhouette Score:\", silhouette_avg4)\n",
        "print(\"Davies-Bouldin Index:\", dbi_score4)\n",
        "print(\"Rand Score:\", rand_score4)\n",
        "print(\"Calinski and Harabasz Score:\", ch_score4)\n"
      ],
      "metadata": {
        "colab": {
          "base_uri": "https://localhost:8080/"
        },
        "id": "TiCd4jZyPzTL",
        "outputId": "83b70e44-fbf7-4c04-85d2-5cf26086e5fe"
      },
      "execution_count": 27,
      "outputs": [
        {
          "output_type": "stream",
          "name": "stderr",
          "text": [
            "/usr/local/lib/python3.10/dist-packages/sklearn/manifold/_spectral_embedding.py:274: UserWarning: Graph is not fully connected, spectral embedding may not work as expected.\n",
            "  warnings.warn(\n"
          ]
        },
        {
          "output_type": "stream",
          "name": "stdout",
          "text": [
            "\n",
            "Spectral Clustering\n",
            "Silhouette Score: 0.25524128777815663\n",
            "Davies-Bouldin Index: 0.5967473205315075\n",
            "Rand Score: 0.0024029438603797937\n",
            "Calinski and Harabasz Score: 1.5882640394783059\n"
          ]
        }
      ]
    }
  ]
}